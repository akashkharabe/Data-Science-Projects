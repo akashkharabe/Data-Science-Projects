{
 "cells": [
  {
   "cell_type": "code",
   "execution_count": 85,
   "metadata": {},
   "outputs": [],
   "source": [
    "import pandas as pd\n",
    "import numpy as np \n",
    "import seaborn as sns\n",
    "import matplotlib.pyplot as plt "
   ]
  },
  {
   "cell_type": "code",
   "execution_count": 30,
   "metadata": {},
   "outputs": [
    {
     "name": "stderr",
     "output_type": "stream",
     "text": [
      "C:\\Users\\91931\\anaconda3\\lib\\site-packages\\IPython\\core\\interactiveshell.py:3063: DtypeWarning: Columns (7) have mixed types.Specify dtype option on import or set low_memory=False.\n",
      "  interactivity=interactivity, compiler=compiler, result=result)\n"
     ]
    }
   ],
   "source": [
    "cars = pd.read_csv(r\"C:\\Users\\91931\\Desktop\\Books\\CarSales.csv\", na_values=' ')"
   ]
  },
  {
   "cell_type": "code",
   "execution_count": 31,
   "metadata": {},
   "outputs": [
    {
     "data": {
      "text/html": [
       "<div>\n",
       "<style scoped>\n",
       "    .dataframe tbody tr th:only-of-type {\n",
       "        vertical-align: middle;\n",
       "    }\n",
       "\n",
       "    .dataframe tbody tr th {\n",
       "        vertical-align: top;\n",
       "    }\n",
       "\n",
       "    .dataframe thead th {\n",
       "        text-align: right;\n",
       "    }\n",
       "</style>\n",
       "<table border=\"1\" class=\"dataframe\">\n",
       "  <thead>\n",
       "    <tr style=\"text-align: right;\">\n",
       "      <th></th>\n",
       "      <th>price</th>\n",
       "      <th>vehicleType</th>\n",
       "      <th>yearOfRegistration</th>\n",
       "      <th>gearbox</th>\n",
       "      <th>powerPS</th>\n",
       "      <th>model</th>\n",
       "      <th>brand</th>\n",
       "      <th>kilometer</th>\n",
       "      <th>fuelType</th>\n",
       "      <th>dateCreated</th>\n",
       "      <th>postalCode</th>\n",
       "    </tr>\n",
       "  </thead>\n",
       "  <tbody>\n",
       "    <tr>\n",
       "      <th>0</th>\n",
       "      <td>480.0</td>\n",
       "      <td>NaN</td>\n",
       "      <td>1993.0</td>\n",
       "      <td>manuell</td>\n",
       "      <td>0.0</td>\n",
       "      <td>golf</td>\n",
       "      <td>volkswagen</td>\n",
       "      <td>150000</td>\n",
       "      <td>benzin</td>\n",
       "      <td>3/24/2016 0:00</td>\n",
       "      <td>70435.0</td>\n",
       "    </tr>\n",
       "    <tr>\n",
       "      <th>1</th>\n",
       "      <td>18300.0</td>\n",
       "      <td>coupe</td>\n",
       "      <td>2011.0</td>\n",
       "      <td>manuell</td>\n",
       "      <td>190.0</td>\n",
       "      <td>NaN</td>\n",
       "      <td>audi</td>\n",
       "      <td>125000</td>\n",
       "      <td>diesel</td>\n",
       "      <td>3/24/2016 0:00</td>\n",
       "      <td>66954.0</td>\n",
       "    </tr>\n",
       "    <tr>\n",
       "      <th>2</th>\n",
       "      <td>9800.0</td>\n",
       "      <td>suv</td>\n",
       "      <td>2004.0</td>\n",
       "      <td>automatik</td>\n",
       "      <td>163.0</td>\n",
       "      <td>grand</td>\n",
       "      <td>jeep</td>\n",
       "      <td>125000</td>\n",
       "      <td>diesel</td>\n",
       "      <td>3/14/2016 0:00</td>\n",
       "      <td>90480.0</td>\n",
       "    </tr>\n",
       "    <tr>\n",
       "      <th>3</th>\n",
       "      <td>1500.0</td>\n",
       "      <td>kleinwagen</td>\n",
       "      <td>2001.0</td>\n",
       "      <td>manuell</td>\n",
       "      <td>75.0</td>\n",
       "      <td>golf</td>\n",
       "      <td>volkswagen</td>\n",
       "      <td>150000</td>\n",
       "      <td>benzin</td>\n",
       "      <td>3/17/2016 0:00</td>\n",
       "      <td>91074.0</td>\n",
       "    </tr>\n",
       "    <tr>\n",
       "      <th>4</th>\n",
       "      <td>3600.0</td>\n",
       "      <td>kleinwagen</td>\n",
       "      <td>2008.0</td>\n",
       "      <td>manuell</td>\n",
       "      <td>69.0</td>\n",
       "      <td>fabia</td>\n",
       "      <td>skoda</td>\n",
       "      <td>90000</td>\n",
       "      <td>diesel</td>\n",
       "      <td>3/31/2016 0:00</td>\n",
       "      <td>60437.0</td>\n",
       "    </tr>\n",
       "  </tbody>\n",
       "</table>\n",
       "</div>"
      ],
      "text/plain": [
       "     price vehicleType  yearOfRegistration    gearbox  powerPS  model  \\\n",
       "0    480.0         NaN              1993.0    manuell      0.0   golf   \n",
       "1  18300.0       coupe              2011.0    manuell    190.0    NaN   \n",
       "2   9800.0         suv              2004.0  automatik    163.0  grand   \n",
       "3   1500.0  kleinwagen              2001.0    manuell     75.0   golf   \n",
       "4   3600.0  kleinwagen              2008.0    manuell     69.0  fabia   \n",
       "\n",
       "        brand kilometer fuelType     dateCreated  postalCode  \n",
       "0  volkswagen    150000   benzin  3/24/2016 0:00     70435.0  \n",
       "1        audi    125000   diesel  3/24/2016 0:00     66954.0  \n",
       "2        jeep    125000   diesel  3/14/2016 0:00     90480.0  \n",
       "3  volkswagen    150000   benzin  3/17/2016 0:00     91074.0  \n",
       "4       skoda     90000   diesel  3/31/2016 0:00     60437.0  "
      ]
     },
     "execution_count": 31,
     "metadata": {},
     "output_type": "execute_result"
    }
   ],
   "source": [
    "cars.head()"
   ]
  },
  {
   "cell_type": "code",
   "execution_count": 32,
   "metadata": {},
   "outputs": [
    {
     "data": {
      "text/plain": [
       "(371539, 11)"
      ]
     },
     "execution_count": 32,
     "metadata": {},
     "output_type": "execute_result"
    }
   ],
   "source": [
    "cars.shape"
   ]
  },
  {
   "cell_type": "code",
   "execution_count": 33,
   "metadata": {
    "scrolled": true
   },
   "outputs": [
    {
     "data": {
      "text/plain": [
       "Index(['price', 'vehicleType', 'yearOfRegistration', 'gearbox', 'powerPS',\n",
       "       'model', 'brand', 'kilometer', 'fuelType', 'dateCreated', 'postalCode'],\n",
       "      dtype='object')"
      ]
     },
     "execution_count": 33,
     "metadata": {},
     "output_type": "execute_result"
    }
   ],
   "source": [
    "cars.columns"
   ]
  },
  {
   "cell_type": "code",
   "execution_count": 34,
   "metadata": {},
   "outputs": [
    {
     "name": "stdout",
     "output_type": "stream",
     "text": [
      "<class 'pandas.core.frame.DataFrame'>\n",
      "RangeIndex: 371539 entries, 0 to 371538\n",
      "Data columns (total 11 columns):\n",
      " #   Column              Non-Null Count   Dtype  \n",
      "---  ------              --------------   -----  \n",
      " 0   price               371538 non-null  float64\n",
      " 1   vehicleType         333669 non-null  object \n",
      " 2   yearOfRegistration  371537 non-null  float64\n",
      " 3   gearbox             351329 non-null  object \n",
      " 4   powerPS             371538 non-null  float64\n",
      " 5   model               351054 non-null  object \n",
      " 6   brand               371537 non-null  object \n",
      " 7   kilometer           371538 non-null  object \n",
      " 8   fuelType            338151 non-null  object \n",
      " 9   dateCreated         371537 non-null  object \n",
      " 10  postalCode          371537 non-null  float64\n",
      "dtypes: float64(4), object(7)\n",
      "memory usage: 31.2+ MB\n"
     ]
    }
   ],
   "source": [
    "cars.info()"
   ]
  },
  {
   "cell_type": "code",
   "execution_count": 35,
   "metadata": {
    "scrolled": true
   },
   "outputs": [
    {
     "data": {
      "text/plain": [
       "price                     1\n",
       "vehicleType           37870\n",
       "yearOfRegistration        2\n",
       "gearbox               20210\n",
       "powerPS                   1\n",
       "model                 20485\n",
       "brand                     2\n",
       "kilometer                 1\n",
       "fuelType              33388\n",
       "dateCreated               2\n",
       "postalCode                2\n",
       "dtype: int64"
      ]
     },
     "execution_count": 35,
     "metadata": {},
     "output_type": "execute_result"
    }
   ],
   "source": [
    "cars.isnull().sum()"
   ]
  },
  {
   "cell_type": "code",
   "execution_count": 13,
   "metadata": {},
   "outputs": [
    {
     "data": {
      "text/plain": [
       "array([nan, 'coupe', 'suv', 'kleinwagen', 'limousine', 'cabrio', 'bus',\n",
       "       'kombi', 'andere', 'volkswagen'], dtype=object)"
      ]
     },
     "execution_count": 13,
     "metadata": {},
     "output_type": "execute_result"
    }
   ],
   "source": [
    "cars['vehicleType'].unique()"
   ]
  },
  {
   "cell_type": "code",
   "execution_count": 14,
   "metadata": {},
   "outputs": [
    {
     "data": {
      "text/plain": [
       "array(['benzin', 'diesel', nan, 'lpg', 'andere', 'hybrid', 'cng',\n",
       "       'elektro'], dtype=object)"
      ]
     },
     "execution_count": 14,
     "metadata": {},
     "output_type": "execute_result"
    }
   ],
   "source": [
    "cars['fuelType'].unique()"
   ]
  },
  {
   "cell_type": "code",
   "execution_count": null,
   "metadata": {},
   "outputs": [],
   "source": [
    "cars.drop(['dateCreated', 'postalCode'], axis=1, inplace= True)"
   ]
  },
  {
   "cell_type": "code",
   "execution_count": 41,
   "metadata": {
    "scrolled": true
   },
   "outputs": [
    {
     "data": {
      "text/html": [
       "<div>\n",
       "<style scoped>\n",
       "    .dataframe tbody tr th:only-of-type {\n",
       "        vertical-align: middle;\n",
       "    }\n",
       "\n",
       "    .dataframe tbody tr th {\n",
       "        vertical-align: top;\n",
       "    }\n",
       "\n",
       "    .dataframe thead th {\n",
       "        text-align: right;\n",
       "    }\n",
       "</style>\n",
       "<table border=\"1\" class=\"dataframe\">\n",
       "  <thead>\n",
       "    <tr style=\"text-align: right;\">\n",
       "      <th></th>\n",
       "      <th>price</th>\n",
       "      <th>vehicleType</th>\n",
       "      <th>yearOfRegistration</th>\n",
       "      <th>gearbox</th>\n",
       "      <th>powerPS</th>\n",
       "      <th>model</th>\n",
       "      <th>brand</th>\n",
       "      <th>kilometer</th>\n",
       "      <th>fuelType</th>\n",
       "    </tr>\n",
       "  </thead>\n",
       "  <tbody>\n",
       "    <tr>\n",
       "      <th>0</th>\n",
       "      <td>480.0</td>\n",
       "      <td>NaN</td>\n",
       "      <td>1993.0</td>\n",
       "      <td>manuell</td>\n",
       "      <td>0.0</td>\n",
       "      <td>golf</td>\n",
       "      <td>volkswagen</td>\n",
       "      <td>150000</td>\n",
       "      <td>benzin</td>\n",
       "    </tr>\n",
       "    <tr>\n",
       "      <th>1</th>\n",
       "      <td>18300.0</td>\n",
       "      <td>coupe</td>\n",
       "      <td>2011.0</td>\n",
       "      <td>manuell</td>\n",
       "      <td>190.0</td>\n",
       "      <td>NaN</td>\n",
       "      <td>audi</td>\n",
       "      <td>125000</td>\n",
       "      <td>diesel</td>\n",
       "    </tr>\n",
       "    <tr>\n",
       "      <th>2</th>\n",
       "      <td>9800.0</td>\n",
       "      <td>suv</td>\n",
       "      <td>2004.0</td>\n",
       "      <td>automatik</td>\n",
       "      <td>163.0</td>\n",
       "      <td>grand</td>\n",
       "      <td>jeep</td>\n",
       "      <td>125000</td>\n",
       "      <td>diesel</td>\n",
       "    </tr>\n",
       "    <tr>\n",
       "      <th>3</th>\n",
       "      <td>1500.0</td>\n",
       "      <td>kleinwagen</td>\n",
       "      <td>2001.0</td>\n",
       "      <td>manuell</td>\n",
       "      <td>75.0</td>\n",
       "      <td>golf</td>\n",
       "      <td>volkswagen</td>\n",
       "      <td>150000</td>\n",
       "      <td>benzin</td>\n",
       "    </tr>\n",
       "    <tr>\n",
       "      <th>4</th>\n",
       "      <td>3600.0</td>\n",
       "      <td>kleinwagen</td>\n",
       "      <td>2008.0</td>\n",
       "      <td>manuell</td>\n",
       "      <td>69.0</td>\n",
       "      <td>fabia</td>\n",
       "      <td>skoda</td>\n",
       "      <td>90000</td>\n",
       "      <td>diesel</td>\n",
       "    </tr>\n",
       "    <tr>\n",
       "      <th>5</th>\n",
       "      <td>650.0</td>\n",
       "      <td>limousine</td>\n",
       "      <td>1995.0</td>\n",
       "      <td>manuell</td>\n",
       "      <td>102.0</td>\n",
       "      <td>3er</td>\n",
       "      <td>bmw</td>\n",
       "      <td>150000</td>\n",
       "      <td>benzin</td>\n",
       "    </tr>\n",
       "    <tr>\n",
       "      <th>6</th>\n",
       "      <td>2200.0</td>\n",
       "      <td>cabrio</td>\n",
       "      <td>2004.0</td>\n",
       "      <td>manuell</td>\n",
       "      <td>109.0</td>\n",
       "      <td>2_reihe</td>\n",
       "      <td>peugeot</td>\n",
       "      <td>150000</td>\n",
       "      <td>benzin</td>\n",
       "    </tr>\n",
       "    <tr>\n",
       "      <th>7</th>\n",
       "      <td>0.0</td>\n",
       "      <td>limousine</td>\n",
       "      <td>1980.0</td>\n",
       "      <td>manuell</td>\n",
       "      <td>50.0</td>\n",
       "      <td>andere</td>\n",
       "      <td>volkswagen</td>\n",
       "      <td>40000</td>\n",
       "      <td>benzin</td>\n",
       "    </tr>\n",
       "    <tr>\n",
       "      <th>8</th>\n",
       "      <td>14500.0</td>\n",
       "      <td>bus</td>\n",
       "      <td>2014.0</td>\n",
       "      <td>manuell</td>\n",
       "      <td>125.0</td>\n",
       "      <td>c_max</td>\n",
       "      <td>ford</td>\n",
       "      <td>30000</td>\n",
       "      <td>benzin</td>\n",
       "    </tr>\n",
       "    <tr>\n",
       "      <th>9</th>\n",
       "      <td>999.0</td>\n",
       "      <td>kleinwagen</td>\n",
       "      <td>1998.0</td>\n",
       "      <td>manuell</td>\n",
       "      <td>101.0</td>\n",
       "      <td>golf</td>\n",
       "      <td>volkswagen</td>\n",
       "      <td>150000</td>\n",
       "      <td>NaN</td>\n",
       "    </tr>\n",
       "    <tr>\n",
       "      <th>10</th>\n",
       "      <td>2000.0</td>\n",
       "      <td>limousine</td>\n",
       "      <td>2004.0</td>\n",
       "      <td>manuell</td>\n",
       "      <td>105.0</td>\n",
       "      <td>3_reihe</td>\n",
       "      <td>mazda</td>\n",
       "      <td>150000</td>\n",
       "      <td>benzin</td>\n",
       "    </tr>\n",
       "    <tr>\n",
       "      <th>11</th>\n",
       "      <td>2799.0</td>\n",
       "      <td>kombi</td>\n",
       "      <td>2005.0</td>\n",
       "      <td>manuell</td>\n",
       "      <td>140.0</td>\n",
       "      <td>passat</td>\n",
       "      <td>volkswagen</td>\n",
       "      <td>150000</td>\n",
       "      <td>diesel</td>\n",
       "    </tr>\n",
       "    <tr>\n",
       "      <th>12</th>\n",
       "      <td>999.0</td>\n",
       "      <td>kombi</td>\n",
       "      <td>1995.0</td>\n",
       "      <td>manuell</td>\n",
       "      <td>115.0</td>\n",
       "      <td>passat</td>\n",
       "      <td>volkswagen</td>\n",
       "      <td>150000</td>\n",
       "      <td>benzin</td>\n",
       "    </tr>\n",
       "    <tr>\n",
       "      <th>13</th>\n",
       "      <td>2500.0</td>\n",
       "      <td>kombi</td>\n",
       "      <td>2004.0</td>\n",
       "      <td>manuell</td>\n",
       "      <td>131.0</td>\n",
       "      <td>passat</td>\n",
       "      <td>volkswagen</td>\n",
       "      <td>150000</td>\n",
       "      <td>NaN</td>\n",
       "    </tr>\n",
       "    <tr>\n",
       "      <th>14</th>\n",
       "      <td>17999.0</td>\n",
       "      <td>suv</td>\n",
       "      <td>2011.0</td>\n",
       "      <td>manuell</td>\n",
       "      <td>190.0</td>\n",
       "      <td>navara</td>\n",
       "      <td>nissan</td>\n",
       "      <td>70000</td>\n",
       "      <td>diesel</td>\n",
       "    </tr>\n",
       "    <tr>\n",
       "      <th>15</th>\n",
       "      <td>450.0</td>\n",
       "      <td>kleinwagen</td>\n",
       "      <td>1910.0</td>\n",
       "      <td>NaN</td>\n",
       "      <td>0.0</td>\n",
       "      <td>ka</td>\n",
       "      <td>ford</td>\n",
       "      <td>5000</td>\n",
       "      <td>benzin</td>\n",
       "    </tr>\n",
       "    <tr>\n",
       "      <th>16</th>\n",
       "      <td>300.0</td>\n",
       "      <td>NaN</td>\n",
       "      <td>2016.0</td>\n",
       "      <td>NaN</td>\n",
       "      <td>60.0</td>\n",
       "      <td>polo</td>\n",
       "      <td>volkswagen</td>\n",
       "      <td>150000</td>\n",
       "      <td>benzin</td>\n",
       "    </tr>\n",
       "    <tr>\n",
       "      <th>17</th>\n",
       "      <td>1750.0</td>\n",
       "      <td>kleinwagen</td>\n",
       "      <td>2004.0</td>\n",
       "      <td>automatik</td>\n",
       "      <td>75.0</td>\n",
       "      <td>twingo</td>\n",
       "      <td>renault</td>\n",
       "      <td>150000</td>\n",
       "      <td>benzin</td>\n",
       "    </tr>\n",
       "    <tr>\n",
       "      <th>18</th>\n",
       "      <td>7550.0</td>\n",
       "      <td>bus</td>\n",
       "      <td>2007.0</td>\n",
       "      <td>manuell</td>\n",
       "      <td>136.0</td>\n",
       "      <td>c_max</td>\n",
       "      <td>ford</td>\n",
       "      <td>150000</td>\n",
       "      <td>diesel</td>\n",
       "    </tr>\n",
       "    <tr>\n",
       "      <th>19</th>\n",
       "      <td>1850.0</td>\n",
       "      <td>bus</td>\n",
       "      <td>2004.0</td>\n",
       "      <td>manuell</td>\n",
       "      <td>102.0</td>\n",
       "      <td>a_klasse</td>\n",
       "      <td>mercedes_benz</td>\n",
       "      <td>150000</td>\n",
       "      <td>benzin</td>\n",
       "    </tr>\n",
       "  </tbody>\n",
       "</table>\n",
       "</div>"
      ],
      "text/plain": [
       "      price vehicleType  yearOfRegistration    gearbox  powerPS     model  \\\n",
       "0     480.0         NaN              1993.0    manuell      0.0      golf   \n",
       "1   18300.0       coupe              2011.0    manuell    190.0       NaN   \n",
       "2    9800.0         suv              2004.0  automatik    163.0     grand   \n",
       "3    1500.0  kleinwagen              2001.0    manuell     75.0      golf   \n",
       "4    3600.0  kleinwagen              2008.0    manuell     69.0     fabia   \n",
       "5     650.0   limousine              1995.0    manuell    102.0       3er   \n",
       "6    2200.0      cabrio              2004.0    manuell    109.0   2_reihe   \n",
       "7       0.0   limousine              1980.0    manuell     50.0    andere   \n",
       "8   14500.0         bus              2014.0    manuell    125.0     c_max   \n",
       "9     999.0  kleinwagen              1998.0    manuell    101.0      golf   \n",
       "10   2000.0   limousine              2004.0    manuell    105.0   3_reihe   \n",
       "11   2799.0       kombi              2005.0    manuell    140.0    passat   \n",
       "12    999.0       kombi              1995.0    manuell    115.0    passat   \n",
       "13   2500.0       kombi              2004.0    manuell    131.0    passat   \n",
       "14  17999.0         suv              2011.0    manuell    190.0    navara   \n",
       "15    450.0  kleinwagen              1910.0        NaN      0.0        ka   \n",
       "16    300.0         NaN              2016.0        NaN     60.0      polo   \n",
       "17   1750.0  kleinwagen              2004.0  automatik     75.0    twingo   \n",
       "18   7550.0         bus              2007.0    manuell    136.0     c_max   \n",
       "19   1850.0         bus              2004.0    manuell    102.0  a_klasse   \n",
       "\n",
       "            brand kilometer fuelType  \n",
       "0      volkswagen    150000   benzin  \n",
       "1            audi    125000   diesel  \n",
       "2            jeep    125000   diesel  \n",
       "3      volkswagen    150000   benzin  \n",
       "4           skoda     90000   diesel  \n",
       "5             bmw    150000   benzin  \n",
       "6         peugeot    150000   benzin  \n",
       "7      volkswagen     40000   benzin  \n",
       "8            ford     30000   benzin  \n",
       "9      volkswagen    150000      NaN  \n",
       "10          mazda    150000   benzin  \n",
       "11     volkswagen    150000   diesel  \n",
       "12     volkswagen    150000   benzin  \n",
       "13     volkswagen    150000      NaN  \n",
       "14         nissan     70000   diesel  \n",
       "15           ford      5000   benzin  \n",
       "16     volkswagen    150000   benzin  \n",
       "17        renault    150000   benzin  \n",
       "18           ford    150000   diesel  \n",
       "19  mercedes_benz    150000   benzin  "
      ]
     },
     "execution_count": 41,
     "metadata": {},
     "output_type": "execute_result"
    }
   ],
   "source": [
    "cars.head(20)"
   ]
  },
  {
   "cell_type": "code",
   "execution_count": 42,
   "metadata": {},
   "outputs": [
    {
     "data": {
      "text/plain": [
       "price                     1\n",
       "vehicleType           37870\n",
       "yearOfRegistration        2\n",
       "gearbox               20210\n",
       "powerPS                   1\n",
       "model                 20485\n",
       "brand                     2\n",
       "kilometer                 1\n",
       "fuelType              33388\n",
       "dtype: int64"
      ]
     },
     "execution_count": 42,
     "metadata": {},
     "output_type": "execute_result"
    }
   ],
   "source": [
    "cars.isnull().sum()#to check null values "
   ]
  },
  {
   "cell_type": "code",
   "execution_count": 53,
   "metadata": {},
   "outputs": [],
   "source": [
    "cars=cars.dropna() # droping rows with Na value"
   ]
  },
  {
   "cell_type": "code",
   "execution_count": 54,
   "metadata": {},
   "outputs": [
    {
     "data": {
      "text/plain": [
       "(299873, 9)"
      ]
     },
     "execution_count": 54,
     "metadata": {},
     "output_type": "execute_result"
    }
   ],
   "source": [
    "cars.shape"
   ]
  },
  {
   "cell_type": "code",
   "execution_count": 56,
   "metadata": {},
   "outputs": [
    {
     "data": {
      "text/html": [
       "<div>\n",
       "<style scoped>\n",
       "    .dataframe tbody tr th:only-of-type {\n",
       "        vertical-align: middle;\n",
       "    }\n",
       "\n",
       "    .dataframe tbody tr th {\n",
       "        vertical-align: top;\n",
       "    }\n",
       "\n",
       "    .dataframe thead th {\n",
       "        text-align: right;\n",
       "    }\n",
       "</style>\n",
       "<table border=\"1\" class=\"dataframe\">\n",
       "  <thead>\n",
       "    <tr style=\"text-align: right;\">\n",
       "      <th></th>\n",
       "      <th>price</th>\n",
       "      <th>yearOfRegistration</th>\n",
       "      <th>powerPS</th>\n",
       "    </tr>\n",
       "  </thead>\n",
       "  <tbody>\n",
       "    <tr>\n",
       "      <th>count</th>\n",
       "      <td>2.998730e+05</td>\n",
       "      <td>299873.000000</td>\n",
       "      <td>299873.000000</td>\n",
       "    </tr>\n",
       "    <tr>\n",
       "      <th>mean</th>\n",
       "      <td>8.537700e+03</td>\n",
       "      <td>2002.934372</td>\n",
       "      <td>123.536044</td>\n",
       "    </tr>\n",
       "    <tr>\n",
       "      <th>std</th>\n",
       "      <td>4.196424e+05</td>\n",
       "      <td>6.580214</td>\n",
       "      <td>172.036097</td>\n",
       "    </tr>\n",
       "    <tr>\n",
       "      <th>min</th>\n",
       "      <td>0.000000e+00</td>\n",
       "      <td>1910.000000</td>\n",
       "      <td>0.000000</td>\n",
       "    </tr>\n",
       "    <tr>\n",
       "      <th>25%</th>\n",
       "      <td>1.400000e+03</td>\n",
       "      <td>1999.000000</td>\n",
       "      <td>75.000000</td>\n",
       "    </tr>\n",
       "    <tr>\n",
       "      <th>50%</th>\n",
       "      <td>3.500000e+03</td>\n",
       "      <td>2003.000000</td>\n",
       "      <td>114.000000</td>\n",
       "    </tr>\n",
       "    <tr>\n",
       "      <th>75%</th>\n",
       "      <td>7.999000e+03</td>\n",
       "      <td>2007.000000</td>\n",
       "      <td>150.000000</td>\n",
       "    </tr>\n",
       "    <tr>\n",
       "      <th>max</th>\n",
       "      <td>1.000000e+08</td>\n",
       "      <td>2018.000000</td>\n",
       "      <td>20000.000000</td>\n",
       "    </tr>\n",
       "  </tbody>\n",
       "</table>\n",
       "</div>"
      ],
      "text/plain": [
       "              price  yearOfRegistration        powerPS\n",
       "count  2.998730e+05       299873.000000  299873.000000\n",
       "mean   8.537700e+03         2002.934372     123.536044\n",
       "std    4.196424e+05            6.580214     172.036097\n",
       "min    0.000000e+00         1910.000000       0.000000\n",
       "25%    1.400000e+03         1999.000000      75.000000\n",
       "50%    3.500000e+03         2003.000000     114.000000\n",
       "75%    7.999000e+03         2007.000000     150.000000\n",
       "max    1.000000e+08         2018.000000   20000.000000"
      ]
     },
     "execution_count": 56,
     "metadata": {},
     "output_type": "execute_result"
    }
   ],
   "source": [
    "cars.describe()"
   ]
  },
  {
   "cell_type": "code",
   "execution_count": 57,
   "metadata": {},
   "outputs": [
    {
     "data": {
      "text/plain": [
       "price                 227.321176\n",
       "yearOfRegistration     -1.395503\n",
       "powerPS                65.218825\n",
       "kilometer              -1.467242\n",
       "dtype: float64"
      ]
     },
     "execution_count": 57,
     "metadata": {},
     "output_type": "execute_result"
    }
   ],
   "source": [
    "cars.skew()"
   ]
  },
  {
   "cell_type": "code",
   "execution_count": 61,
   "metadata": {},
   "outputs": [],
   "source": [
    "cars =cars.drop_duplicates(keep ='first')"
   ]
  },
  {
   "cell_type": "code",
   "execution_count": 62,
   "metadata": {},
   "outputs": [
    {
     "data": {
      "text/plain": [
       "(260633, 9)"
      ]
     },
     "execution_count": 62,
     "metadata": {},
     "output_type": "execute_result"
    }
   ],
   "source": [
    "cars.shape"
   ]
  },
  {
   "cell_type": "code",
   "execution_count": 67,
   "metadata": {},
   "outputs": [
    {
     "data": {
      "text/html": [
       "<div>\n",
       "<style scoped>\n",
       "    .dataframe tbody tr th:only-of-type {\n",
       "        vertical-align: middle;\n",
       "    }\n",
       "\n",
       "    .dataframe tbody tr th {\n",
       "        vertical-align: top;\n",
       "    }\n",
       "\n",
       "    .dataframe thead th {\n",
       "        text-align: right;\n",
       "    }\n",
       "</style>\n",
       "<table border=\"1\" class=\"dataframe\">\n",
       "  <thead>\n",
       "    <tr style=\"text-align: right;\">\n",
       "      <th></th>\n",
       "      <th>price</th>\n",
       "      <th>vehicleType</th>\n",
       "      <th>yearOfRegistration</th>\n",
       "      <th>gearbox</th>\n",
       "      <th>powerPS</th>\n",
       "      <th>model</th>\n",
       "      <th>brand</th>\n",
       "      <th>kilometer</th>\n",
       "      <th>fuelType</th>\n",
       "    </tr>\n",
       "  </thead>\n",
       "  <tbody>\n",
       "    <tr>\n",
       "      <th>248713</th>\n",
       "      <td>1650.0</td>\n",
       "      <td>coupe</td>\n",
       "      <td>2018.0</td>\n",
       "      <td>manuell</td>\n",
       "      <td>140.0</td>\n",
       "      <td>3er</td>\n",
       "      <td>bmw</td>\n",
       "      <td>150000</td>\n",
       "      <td>benzin</td>\n",
       "    </tr>\n",
       "    <tr>\n",
       "      <th>86636</th>\n",
       "      <td>4750.0</td>\n",
       "      <td>limousine</td>\n",
       "      <td>2018.0</td>\n",
       "      <td>manuell</td>\n",
       "      <td>0.0</td>\n",
       "      <td>polo</td>\n",
       "      <td>volkswagen</td>\n",
       "      <td>150000</td>\n",
       "      <td>diesel</td>\n",
       "    </tr>\n",
       "    <tr>\n",
       "      <th>167137</th>\n",
       "      <td>1900.0</td>\n",
       "      <td>kleinwagen</td>\n",
       "      <td>2018.0</td>\n",
       "      <td>manuell</td>\n",
       "      <td>75.0</td>\n",
       "      <td>polo</td>\n",
       "      <td>volkswagen</td>\n",
       "      <td>150000</td>\n",
       "      <td>benzin</td>\n",
       "    </tr>\n",
       "    <tr>\n",
       "      <th>56888</th>\n",
       "      <td>2350.0</td>\n",
       "      <td>limousine</td>\n",
       "      <td>2017.0</td>\n",
       "      <td>automatik</td>\n",
       "      <td>170.0</td>\n",
       "      <td>5er</td>\n",
       "      <td>bmw</td>\n",
       "      <td>150000</td>\n",
       "      <td>benzin</td>\n",
       "    </tr>\n",
       "    <tr>\n",
       "      <th>250158</th>\n",
       "      <td>400.0</td>\n",
       "      <td>bus</td>\n",
       "      <td>2017.0</td>\n",
       "      <td>manuell</td>\n",
       "      <td>0.0</td>\n",
       "      <td>1_reihe</td>\n",
       "      <td>peugeot</td>\n",
       "      <td>150000</td>\n",
       "      <td>benzin</td>\n",
       "    </tr>\n",
       "  </tbody>\n",
       "</table>\n",
       "</div>"
      ],
      "text/plain": [
       "         price vehicleType  yearOfRegistration    gearbox  powerPS    model  \\\n",
       "248713  1650.0       coupe              2018.0    manuell    140.0      3er   \n",
       "86636   4750.0   limousine              2018.0    manuell      0.0     polo   \n",
       "167137  1900.0  kleinwagen              2018.0    manuell     75.0     polo   \n",
       "56888   2350.0   limousine              2017.0  automatik    170.0      5er   \n",
       "250158   400.0         bus              2017.0    manuell      0.0  1_reihe   \n",
       "\n",
       "             brand kilometer fuelType  \n",
       "248713         bmw    150000   benzin  \n",
       "86636   volkswagen    150000   diesel  \n",
       "167137  volkswagen    150000   benzin  \n",
       "56888          bmw    150000   benzin  \n",
       "250158     peugeot    150000   benzin  "
      ]
     },
     "execution_count": 67,
     "metadata": {},
     "output_type": "execute_result"
    }
   ],
   "source": [
    "cars_sort =cars.sort_values(by ='yearOfRegistration', ascending = False)\n",
    "cars_sort.head()"
   ]
  },
  {
   "cell_type": "code",
   "execution_count": 81,
   "metadata": {
    "scrolled": true
   },
   "outputs": [
    {
     "data": {
      "image/png": "[encoded data removed]",
      "text/plain": [
       "<Figure size 432x288 with 1 Axes>"
      ]
     },
     "metadata": {
      "needs_background": "light"
     },
     "output_type": "display_data"
    }
   ],
   "source": [
    "#visualization \n",
    "plt.hist(cars['vehicleType'],bins=30)\n",
    "plt.show()"
   ]
  },
  {
   "cell_type": "code",
   "execution_count": 103,
   "metadata": {},
   "outputs": [],
   "source": [
    "a = ['vehicleType', 'gearbox', 'model', 'brand']\n",
    "b= ['price', 'yearOfRegistration','powerPS', 'kilometer']"
   ]
  },
  {
   "cell_type": "code",
   "execution_count": 95,
   "metadata": {
    "scrolled": true
   },
   "outputs": [
    {
     "data": {
      "image/png": "[encoded data removed]",
      "text/plain": [
       "<Figure size 432x288 with 1 Axes>"
      ]
     },
     "metadata": {
      "needs_background": "light"
     },
     "output_type": "display_data"
    },
    {
     "data": {
      "image/png": "[encoded data removed]",
      "text/plain": [
       "<Figure size 432x288 with 1 Axes>"
      ]
     },
     "metadata": {
      "needs_background": "light"
     },
     "output_type": "display_data"
    },
    {
     "data": {
      "image/png": "[encoded data removed]",
      "text/plain": [
       "<Figure size 432x288 with 1 Axes>"
      ]
     },
     "metadata": {
      "needs_background": "light"
     },
     "output_type": "display_data"
    },
    {
     "data": {
      "image/png": "[encoded data removed]",
      "text/plain": [
       "<Figure size 432x288 with 1 Axes>"
      ]
     },
     "metadata": {
      "needs_background": "light"
     },
     "output_type": "display_data"
    }
   ],
   "source": [
    "for i in a:\n",
    " sns.countplot(x=i, data=cars)\n",
    " plt.show()"
   ]
  },
  {
   "cell_type": "code",
   "execution_count": 101,
   "metadata": {
    "scrolled": true
   },
   "outputs": [
    {
     "data": {
      "image/png": "[encoded data removed]",
      "text/plain": [
       "<Figure size 432x288 with 1 Axes>"
      ]
     },
     "metadata": {
      "needs_background": "light"
     },
     "output_type": "display_data"
    }
   ],
   "source": [
    "#pdfs\n",
    "sns.distplot(cars['yearOfRegistration'], bins=4)\n",
    "plt.show()"
   ]
  },
  {
   "cell_type": "code",
   "execution_count": 128,
   "metadata": {},
   "outputs": [
    {
     "data": {
      "image/png": "[encoded data removed]",
      "text/plain": [
       "<Figure size 432x288 with 1 Axes>"
      ]
     },
     "metadata": {
      "needs_background": "light"
     },
     "output_type": "display_data"
    },
    {
     "data": {
      "image/png": "[encoded data removed]",
      "text/plain": [
       "<Figure size 432x288 with 1 Axes>"
      ]
     },
     "metadata": {
      "needs_background": "light"
     },
     "output_type": "display_data"
    },
    {
     "data": {
      "image/png": "[encoded data removed]",
      "text/plain": [
       "<Figure size 432x288 with 1 Axes>"
      ]
     },
     "metadata": {
      "needs_background": "light"
     },
     "output_type": "display_data"
    },
    {
     "data": {
      "image/png": "[encoded data removed]",
      "text/plain": [
       "<Figure size 432x288 with 1 Axes>"
      ]
     },
     "metadata": {
      "needs_background": "light"
     },
     "output_type": "display_data"
    }
   ],
   "source": [
    "for i in b:\n",
    "    sns.distplot(cars[i], color ='g')\n",
    "    plt.show()"
   ]
  },
  {
   "cell_type": "code",
   "execution_count": 116,
   "metadata": {},
   "outputs": [],
   "source": [
    "#count by cateory -cross tabulate \n",
    "make_dist =cars.groupby('brand').size()"
   ]
  },
  {
   "cell_type": "code",
   "execution_count": 117,
   "metadata": {},
   "outputs": [
    {
     "data": {
      "text/plain": [
       "brand\n",
       "alfa_romeo        1757\n",
       "audi             24566\n",
       "bmw              29808\n",
       "chevrolet         1443\n",
       "chrysler          1122\n",
       "citroen           3954\n",
       "dacia              732\n",
       "daewoo             384\n",
       "daihatsu           566\n",
       "fiat              6647\n",
       "ford             17996\n",
       "honda             2086\n",
       "hyundai           2853\n",
       "jaguar             524\n",
       "jeep               663\n",
       "kia               1964\n",
       "lada               157\n",
       "lancia             347\n",
       "land_rover         657\n",
       "mazda             4211\n",
       "mercedes_benz    27409\n",
       "mini              2806\n",
       "mitsubishi        2267\n",
       "nissan            3731\n",
       "opel             25820\n",
       "peugeot           7909\n",
       "porsche           1876\n",
       "renault          11978\n",
       "rover              305\n",
       "saab               425\n",
       "seat              5068\n",
       "skoda             4568\n",
       "smart             3458\n",
       "subaru             599\n",
       "suzuki            1758\n",
       "toyota            3774\n",
       "trabant            265\n",
       "volkswagen       51546\n",
       "volvo             2634\n",
       "dtype: int64"
      ]
     },
     "execution_count": 117,
     "metadata": {},
     "output_type": "execute_result"
    }
   ],
   "source": [
    "make_dist"
   ]
  },
  {
   "cell_type": "code",
   "execution_count": 120,
   "metadata": {},
   "outputs": [
    {
     "data": {
      "text/plain": [
       "Text(0.5, 1.0, 'Make Distribution')"
      ]
     },
     "execution_count": 120,
     "metadata": {},
     "output_type": "execute_result"
    },
    {
     "data": {
      "image/png": "[encoded data removed]",
      "text/plain": [
       "<Figure size 432x288 with 1 Axes>"
      ]
     },
     "metadata": {
      "needs_background": "light"
     },
     "output_type": "display_data"
    }
   ],
   "source": [
    "#Distribitio of categorical variable \n",
    "make_dist.plot()\n",
    "plt.title('Make Distribution')"
   ]
  },
  {
   "cell_type": "code",
   "execution_count": 124,
   "metadata": {},
   "outputs": [
    {
     "data": {
      "text/html": [
       "<div>\n",
       "<style scoped>\n",
       "    .dataframe tbody tr th:only-of-type {\n",
       "        vertical-align: middle;\n",
       "    }\n",
       "\n",
       "    .dataframe tbody tr th {\n",
       "        vertical-align: top;\n",
       "    }\n",
       "\n",
       "    .dataframe thead th {\n",
       "        text-align: right;\n",
       "    }\n",
       "</style>\n",
       "<table border=\"1\" class=\"dataframe\">\n",
       "  <thead>\n",
       "    <tr style=\"text-align: right;\">\n",
       "      <th></th>\n",
       "      <th>price</th>\n",
       "      <th>yearOfRegistration</th>\n",
       "      <th>powerPS</th>\n",
       "    </tr>\n",
       "  </thead>\n",
       "  <tbody>\n",
       "    <tr>\n",
       "      <th>2</th>\n",
       "      <td>9800.0</td>\n",
       "      <td>2004.0</td>\n",
       "      <td>163.0</td>\n",
       "    </tr>\n",
       "    <tr>\n",
       "      <th>3</th>\n",
       "      <td>1500.0</td>\n",
       "      <td>2001.0</td>\n",
       "      <td>75.0</td>\n",
       "    </tr>\n",
       "    <tr>\n",
       "      <th>4</th>\n",
       "      <td>3600.0</td>\n",
       "      <td>2008.0</td>\n",
       "      <td>69.0</td>\n",
       "    </tr>\n",
       "    <tr>\n",
       "      <th>5</th>\n",
       "      <td>650.0</td>\n",
       "      <td>1995.0</td>\n",
       "      <td>102.0</td>\n",
       "    </tr>\n",
       "    <tr>\n",
       "      <th>6</th>\n",
       "      <td>2200.0</td>\n",
       "      <td>2004.0</td>\n",
       "      <td>109.0</td>\n",
       "    </tr>\n",
       "  </tbody>\n",
       "</table>\n",
       "</div>"
      ],
      "text/plain": [
       "    price  yearOfRegistration  powerPS\n",
       "2  9800.0              2004.0    163.0\n",
       "3  1500.0              2001.0     75.0\n",
       "4  3600.0              2008.0     69.0\n",
       "5   650.0              1995.0    102.0\n",
       "6  2200.0              2004.0    109.0"
      ]
     },
     "execution_count": 124,
     "metadata": {},
     "output_type": "execute_result"
    }
   ],
   "source": [
    "#select all numberical value \n",
    "cars_num=cars.select_dtypes(include =['float64', 'int64'])\n",
    "cars_num.head()"
   ]
  },
  {
   "cell_type": "code",
   "execution_count": 130,
   "metadata": {},
   "outputs": [
    {
     "data": {
      "text/plain": [
       "array([[<matplotlib.axes._subplots.AxesSubplot object at 0x000001DAE0B7E508>,\n",
       "        <matplotlib.axes._subplots.AxesSubplot object at 0x000001DAF31DC148>],\n",
       "       [<matplotlib.axes._subplots.AxesSubplot object at 0x000001DAF2BF4948>,\n",
       "        <matplotlib.axes._subplots.AxesSubplot object at 0x000001DAF2BDD248>]],\n",
       "      dtype=object)"
      ]
     },
     "execution_count": 130,
     "metadata": {},
     "output_type": "execute_result"
    },
    {
     "data": {
      "image/png": "[encoded data removed]",
      "text/plain": [
       "<Figure size 432x288 with 4 Axes>"
      ]
     },
     "metadata": {
      "needs_background": "light"
     },
     "output_type": "display_data"
    }
   ],
   "source": [
    "cars_num.hist(bins=20)"
   ]
  },
  {
   "cell_type": "code",
   "execution_count": 127,
   "metadata": {
    "scrolled": true
   },
   "outputs": [
    {
     "data": {
      "text/plain": [
       "array([[<matplotlib.axes._subplots.AxesSubplot object at 0x000001DAF2D06988>,\n",
       "        <matplotlib.axes._subplots.AxesSubplot object at 0x000001DAF2B41288>],\n",
       "       [<matplotlib.axes._subplots.AxesSubplot object at 0x000001DAF307D648>,\n",
       "        <matplotlib.axes._subplots.AxesSubplot object at 0x000001DAF2BCFF48>]],\n",
       "      dtype=object)"
      ]
     },
     "execution_count": 127,
     "metadata": {},
     "output_type": "execute_result"
    },
    {
     "data": {
      "image/png": "[encoded data removed]",
      "text/plain": [
       "<Figure size 432x288 with 4 Axes>"
      ]
     },
     "metadata": {
      "needs_background": "light"
     },
     "output_type": "display_data"
    }
   ],
   "source": [
    "cars_num.hist(bins=30)"
   ]
  },
  {
   "cell_type": "code",
   "execution_count": 131,
   "metadata": {},
   "outputs": [
    {
     "data": {
      "text/plain": [
       "price                 1.000000\n",
       "yearOfRegistration    0.003998\n",
       "Name: price, dtype: float64"
      ]
     },
     "execution_count": 131,
     "metadata": {},
     "output_type": "execute_result"
    }
   ],
   "source": [
    "# Correlation with the variable of interest \n",
    "cars_corr=cars_num.corr()['price'][:-1]\n",
    "cars_corr"
   ]
  },
  {
   "cell_type": "code",
   "execution_count": 133,
   "metadata": {},
   "outputs": [
    {
     "data": {
      "image/png": "[encoded data removed]",
      "text/plain": [
       "<Figure size 864x720 with 2 Axes>"
      ]
     },
     "metadata": {
      "needs_background": "light"
     },
     "output_type": "display_data"
    }
   ],
   "source": [
    "cor = cars.corr() # calcualting correlation matrix\n",
    "# we will use heatmap to visualize correlation matrix\n",
    "plt.figure(figsize=(12,10))\n",
    "ax = sns.heatmap(cor,annot=True,cmap=\"coolwarm\")\n",
    "bot,top = ax.get_ylim()\n",
    "ax.set_ylim(bot+0.5,top-0.5)\n",
    "plt.show()"
   ]
  },
  {
   "cell_type": "code",
   "execution_count": 137,
   "metadata": {
    "scrolled": false
   },
   "outputs": [
    {
     "data": {
      "image/png": "[encoded data removed]",
      "text/plain": [
       "<Figure size 432x288 with 1 Axes>"
      ]
     },
     "metadata": {
      "needs_background": "light"
     },
     "output_type": "display_data"
    }
   ],
   "source": [
    "#box plot \n",
    "box1=sns.boxplot(x= \"brand\", y=\"price\", data=cars)\n",
    "plt.show()"
   ]
  },
  {
   "cell_type": "code",
   "execution_count": null,
   "metadata": {},
   "outputs": [],
   "source": [
    "# regression plot \n",
    "sns.regplot(cars['brand'], cars['price'])"
   ]
  },
  {
   "cell_type": "code",
   "execution_count": 134,
   "metadata": {},
   "outputs": [
    {
     "data": {
      "text/html": [
       "<div>\n",
       "<style scoped>\n",
       "    .dataframe tbody tr th:only-of-type {\n",
       "        vertical-align: middle;\n",
       "    }\n",
       "\n",
       "    .dataframe tbody tr th {\n",
       "        vertical-align: top;\n",
       "    }\n",
       "\n",
       "    .dataframe thead th {\n",
       "        text-align: right;\n",
       "    }\n",
       "</style>\n",
       "<table border=\"1\" class=\"dataframe\">\n",
       "  <thead>\n",
       "    <tr style=\"text-align: right;\">\n",
       "      <th></th>\n",
       "      <th>price</th>\n",
       "      <th>vehicleType</th>\n",
       "      <th>yearOfRegistration</th>\n",
       "      <th>gearbox</th>\n",
       "      <th>powerPS</th>\n",
       "      <th>model</th>\n",
       "      <th>brand</th>\n",
       "      <th>kilometer</th>\n",
       "      <th>fuelType</th>\n",
       "    </tr>\n",
       "  </thead>\n",
       "  <tbody>\n",
       "    <tr>\n",
       "      <th>2</th>\n",
       "      <td>9800.0</td>\n",
       "      <td>suv</td>\n",
       "      <td>2004.0</td>\n",
       "      <td>automatik</td>\n",
       "      <td>163.0</td>\n",
       "      <td>grand</td>\n",
       "      <td>jeep</td>\n",
       "      <td>125000</td>\n",
       "      <td>diesel</td>\n",
       "    </tr>\n",
       "    <tr>\n",
       "      <th>3</th>\n",
       "      <td>1500.0</td>\n",
       "      <td>kleinwagen</td>\n",
       "      <td>2001.0</td>\n",
       "      <td>manuell</td>\n",
       "      <td>75.0</td>\n",
       "      <td>golf</td>\n",
       "      <td>volkswagen</td>\n",
       "      <td>150000</td>\n",
       "      <td>benzin</td>\n",
       "    </tr>\n",
       "    <tr>\n",
       "      <th>4</th>\n",
       "      <td>3600.0</td>\n",
       "      <td>kleinwagen</td>\n",
       "      <td>2008.0</td>\n",
       "      <td>manuell</td>\n",
       "      <td>69.0</td>\n",
       "      <td>fabia</td>\n",
       "      <td>skoda</td>\n",
       "      <td>90000</td>\n",
       "      <td>diesel</td>\n",
       "    </tr>\n",
       "    <tr>\n",
       "      <th>5</th>\n",
       "      <td>650.0</td>\n",
       "      <td>limousine</td>\n",
       "      <td>1995.0</td>\n",
       "      <td>manuell</td>\n",
       "      <td>102.0</td>\n",
       "      <td>3er</td>\n",
       "      <td>bmw</td>\n",
       "      <td>150000</td>\n",
       "      <td>benzin</td>\n",
       "    </tr>\n",
       "    <tr>\n",
       "      <th>6</th>\n",
       "      <td>2200.0</td>\n",
       "      <td>cabrio</td>\n",
       "      <td>2004.0</td>\n",
       "      <td>manuell</td>\n",
       "      <td>109.0</td>\n",
       "      <td>2_reihe</td>\n",
       "      <td>peugeot</td>\n",
       "      <td>150000</td>\n",
       "      <td>benzin</td>\n",
       "    </tr>\n",
       "  </tbody>\n",
       "</table>\n",
       "</div>"
      ],
      "text/plain": [
       "    price vehicleType  yearOfRegistration    gearbox  powerPS    model  \\\n",
       "2  9800.0         suv              2004.0  automatik    163.0    grand   \n",
       "3  1500.0  kleinwagen              2001.0    manuell     75.0     golf   \n",
       "4  3600.0  kleinwagen              2008.0    manuell     69.0    fabia   \n",
       "5   650.0   limousine              1995.0    manuell    102.0      3er   \n",
       "6  2200.0      cabrio              2004.0    manuell    109.0  2_reihe   \n",
       "\n",
       "        brand kilometer fuelType  \n",
       "2        jeep    125000   diesel  \n",
       "3  volkswagen    150000   benzin  \n",
       "4       skoda     90000   diesel  \n",
       "5         bmw    150000   benzin  \n",
       "6     peugeot    150000   benzin  "
      ]
     },
     "execution_count": 134,
     "metadata": {},
     "output_type": "execute_result"
    }
   ],
   "source": [
    "cars.head()"
   ]
  }
 ],
 "metadata": {
  "kernelspec": {
   "display_name": "Python 3",
   "language": "python",
   "name": "python3"
  },
  "language_info": {
   "codemirror_mode": {
    "name": "ipython",
    "version": 3
   },
   "file_extension": ".py",
   "mimetype": "text/x-python",
   "name": "python",
   "nbconvert_exporter": "python",
   "pygments_lexer": "ipython3",
   "version": "3.7.6"
  }
 },
 "nbformat": 4,
 "nbformat_minor": 4
}
